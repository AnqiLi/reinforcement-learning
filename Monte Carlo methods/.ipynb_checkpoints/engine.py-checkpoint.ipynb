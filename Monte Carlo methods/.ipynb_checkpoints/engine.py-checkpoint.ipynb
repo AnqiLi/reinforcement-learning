{
 "cells": [
  {
   "cell_type": "code",
   "execution_count": 444,
   "metadata": {},
   "outputs": [],
   "source": [
    "from importlib import reload\n",
    "import car; reload(car)\n",
    "import environment; reload(environment)\n",
    "Environment = environment.Environment\n",
    "Car = car.Car"
   ]
  },
  {
   "cell_type": "code",
   "execution_count": 671,
   "metadata": {
    "scrolled": true
   },
   "outputs": [],
   "source": [
    "import random\n",
    "def select_action_fn(car):\n",
    "    action, greedy_action = None, None\n",
    "    greedy_prob = 1 - car.greedy + car.greedy/len(car.actions)\n",
    "    \n",
    "    if car.P.get((car.position, car.speed), None):\n",
    "        greedy_action = car.P[(car.position, car.speed)]\n",
    "\n",
    "    possible_actions = list(filter(lambda action: car.speed[0] + action[0] <= 4, car.actions))\n",
    "    possible_actions = list(filter(lambda action: car.speed[0] + action[0] >= -4, possible_actions))\n",
    "    possible_actions = list(filter(lambda action: car.speed[1] + action[1] <= 4, possible_actions))\n",
    "    possible_actions = list(filter(lambda action: car.speed[1] + action[1] >= -4, possible_actions))\n",
    "    \n",
    "    if greedy_action in possible_actions and random.random() <= greedy_prob:\n",
    "        return greedy_action\n",
    "        \n",
    "    return random.choice(list(filter(lambda act: act != greedy_action, possible_actions)))\n",
    "\n",
    "env = Environment(\"racetrack2_30x32_2.txt\")\n",
    "car = Car(env, select_action_fn=select_action_fn, greedy=0.05)"
   ]
  },
  {
   "cell_type": "code",
   "execution_count": null,
   "metadata": {},
   "outputs": [
    {
     "name": "stdout",
     "output_type": "stream",
     "text": [
      "Started iteration 918      "
     ]
    }
   ],
   "source": [
    "car.greedy = 0.2\n",
    "car.train(1000, update_policy_each=1)\n",
    "len(car.P)"
   ]
  },
  {
   "cell_type": "code",
   "execution_count": null,
   "metadata": {},
   "outputs": [],
   "source": [
    "car._reset()\n",
    "path = []\n",
    "path.append(car.position)\n",
    "actions = []\n",
    "for i in range(5000):\n",
    "    reward, old_state, action = car.step()\n",
    "    actions.append(action)\n",
    "    path.append(car.position)\n",
    "    if env.is_finish(car.position): break\n",
    "\n",
    "print(len(path), path[:40],actions[:40])\n",
    "env.print(car, path)\n",
    "    \n"
   ]
  },
  {
   "cell_type": "code",
   "execution_count": 686,
   "metadata": {},
   "outputs": [],
   "source": [
    "# l = list(filter(lambda state: state[0][0] == 29 and state[1] == (0,0), car.P))\n",
    "# list(map(lambda k: (k, car.P[k], car.Q[k]), sorted(l, key=lambda state: state[0][1])))"
   ]
  },
  {
   "cell_type": "code",
   "execution_count": 687,
   "metadata": {},
   "outputs": [
    {
     "name": "stdout",
     "output_type": "stream",
     "text": [
      "iteration 98    99  "
     ]
    },
    {
     "data": {
      "text/plain": [
       "(217.97999999999999, 155.0)"
      ]
     },
     "execution_count": 687,
     "metadata": {},
     "output_type": "execute_result"
    }
   ],
   "source": [
    "import numpy as np\n",
    "#car.P = {}\n",
    "#car.P = car.calculate_policy(car.Q)\n",
    "num_steps = []\n",
    "for i in range(100):\n",
    "    print(\"\\riteration\", i, \" \", end=\"\")\n",
    "    steps, _ = car.play()\n",
    "    num_steps.append(len(steps))\n",
    "\n",
    "np.mean(num_steps), np.median(num_steps)"
   ]
  },
  {
   "cell_type": "code",
   "execution_count": 688,
   "metadata": {},
   "outputs": [
    {
     "data": {
      "image/png": "[encoded data removed]",
      "text/plain": [
       "<matplotlib.figure.Figure at 0x121b8c048>"
      ]
     },
     "metadata": {},
     "output_type": "display_data"
    }
   ],
   "source": [
    "import matplotlib.pyplot as plt\n",
    "%matplotlib inline\n",
    "plt.hist(num_steps, bins=100)\n",
    "None"
   ]
  },
  {
   "cell_type": "code",
   "execution_count": 690,
   "metadata": {},
   "outputs": [
    {
     "name": "stdout",
     "output_type": "stream",
     "text": [
      "46\n",
      "  01234567890123456789012345678901\n",
      "  --------------------------------\n",
      "0|++++++++++++++++               f\n",
      "1|+++++++++++++                  f\n",
      "2|++++++++++++                   f\n",
      "3|+++++++++++                    f\n",
      "4|+++++++++++                    f\n",
      "5|+++++++++++                    f\n",
      "6|+++++++++++              ·   · #\n",
      "7|++++++                ·        f\n",
      "8|++++++                        ++\n",
      "9|++++                ·  +++++++++\n",
      "0|+++                    +++++++++\n",
      "1|++                     +++++++++\n",
      "2|+                 ·    +++++++++\n",
      "3|                       +++++++++\n",
      "4|                ·      +++++++++\n",
      "5|···ss············s···s·+++++++++\n",
      "\n"
     ]
    }
   ],
   "source": [
    "# car.P = {}\n",
    "car._reset()\n",
    "steps, _ = car.play()\n",
    "waypoints = [state[0] for (state, action) in steps]\n",
    "print(len(waypoints))\n",
    "env.print(car, waypoints)"
   ]
  },
  {
   "cell_type": "code",
   "execution_count": null,
   "metadata": {},
   "outputs": [],
   "source": []
  }
 ],
 "metadata": {
  "kernelspec": {
   "display_name": "Python 3",
   "language": "python",
   "name": "python3"
  },
  "language_info": {
   "codemirror_mode": {
    "name": "ipython",
    "version": 3
   },
   "file_extension": ".py",
   "mimetype": "text/x-python",
   "name": "python",
   "nbconvert_exporter": "python",
   "pygments_lexer": "ipython3",
   "version": "3.6.3"
  }
 },
 "nbformat": 4,
 "nbformat_minor": 2
}
