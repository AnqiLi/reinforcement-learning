{
 "cells": [
  {
   "cell_type": "code",
   "execution_count": 43,
   "metadata": {},
   "outputs": [],
   "source": [
    "import numpy as np\n",
    "import torch\n",
    "import gym\n",
    "from torch import nn\n",
    "from torch.nn import functional as F\n",
    "import matplotlib.pyplot as plt\n",
    "from torch.utils.tensorboard import SummaryWriter\n"
   ]
  },
  {
   "cell_type": "code",
   "execution_count": 44,
   "metadata": {},
   "outputs": [],
   "source": [
    "def mish(input):\n",
    "    return input * torch.tanh(F.softplus(input))\n",
    "\n",
    "class Mish(nn.Module):\n",
    "    def __init__(self): super().__init__()\n",
    "    def forward(self, input): return mish(input)"
   ]
  },
  {
   "cell_type": "code",
   "execution_count": 45,
   "metadata": {},
   "outputs": [],
   "source": [
    "# helper function to convert numpy arrays to tensors\n",
    "def t(x):\n",
    "    x = np.array(x) if not isinstance(x, np.ndarray) else x\n",
    "    return torch.from_numpy(x).float()"
   ]
  },
  {
   "cell_type": "code",
   "execution_count": 46,
   "metadata": {},
   "outputs": [],
   "source": [
    "# Actor module, categorical actions only\n",
    "import math\n",
    "leaky = torch.nn.LeakyReLU()\n",
    "\n",
    "# std = nn.Parameter(t([0.1]))\n",
    "class Actor(nn.Module):\n",
    "    def __init__(self, state_dim, n_actions):\n",
    "        super().__init__()\n",
    "        self.n_actions = n_actions\n",
    "        self.model = nn.Sequential(\n",
    "            nn.Linear(state_dim, 64),\n",
    "            nn.Tanh(),\n",
    "            nn.Linear(64, 64),\n",
    "            nn.Tanh(),\n",
    "            nn.Linear(64, n_actions)\n",
    "        )\n",
    "        # self.means_head = nn.Sequential(\n",
    "        #     nn.Linear(32, n_actions),\n",
    "        #     # nn.BatchNorm1d(n_actions),\n",
    "        # )\n",
    "        # self.means_head[0].weight.data.zero_()\n",
    "        # self.means_head[0].bias.data.zero_()\n",
    "        \n",
    "        # self.stds_head = nn.Sequential(\n",
    "        #     nn.Linear(32, n_actions, ),\n",
    "        #     # nn.BatchNorm1d(n_actions),\n",
    "        #     # nn.ReLU(),\n",
    "        # )\n",
    "        # self.stds_head[0].weight.data.zero_()\n",
    "        # self.stds_head[0].bias.data.zero_()\n",
    "    \n",
    "    def forward(self, X):\n",
    "        data = self.model(X)\n",
    "        means = data\n",
    "        # stds = self.stds_head(data).exp()\n",
    "        # stds = torch.clamp(self.stds_head(data), 1e-3, 2)\n",
    "        stds = torch.clamp(logstd.exp(), 1e-3, 50)\n",
    "        \n",
    "        dists = torch.distributions.Normal(means, stds)\n",
    "        \n",
    "        return dists"
   ]
  },
  {
   "cell_type": "code",
   "execution_count": 47,
   "metadata": {},
   "outputs": [],
   "source": [
    "## Critic module\n",
    "class Critic(nn.Module):\n",
    "    def __init__(self, state_dim):\n",
    "        super().__init__()\n",
    "        self.model = nn.Sequential(\n",
    "            nn.Linear(state_dim, 64),\n",
    "            # nn.BatchNorm1d(n_actions),\n",
    "            nn.Tanh(),\n",
    "            nn.Linear(64, 64),\n",
    "            # nn.BatchNorm1d(n_actions),\n",
    "            nn.Tanh(),\n",
    "            nn.Linear(64, 1),\n",
    "        )\n",
    "    \n",
    "    def forward(self, X):\n",
    "        return self.model(X)"
   ]
  },
  {
   "cell_type": "code",
   "execution_count": 84,
   "metadata": {},
   "outputs": [],
   "source": [
    "env = gym.make(\"Pendulum-v0\")\n",
    "writer = SummaryWriter()"
   ]
  },
  {
   "cell_type": "code",
   "execution_count": 85,
   "metadata": {},
   "outputs": [],
   "source": [
    "# config\n",
    "state_dim = env.observation_space.shape[0]\n",
    "n_actions = env.action_space.shape[0]\n",
    "actor = Actor(state_dim, n_actions)\n",
    "critic = Critic(state_dim)\n",
    "logstd = nn.Parameter(t([0]))\n",
    "adam_actor = torch.optim.Adam([\n",
    "    {\"params\": actor.parameters()},\n",
    "    {\"params\": [logstd]}\n",
    "    ], lr=4e-4)#, weight_decay=0.001)\n",
    "adam_critic = torch.optim.Adam(critic.parameters(), lr=4e-3)#, weight_decay=0.001)\n",
    "gamma = 0.98\n",
    "entropy_beta = 0.0\n",
    "\n",
    "memory = []"
   ]
  },
  {
   "cell_type": "code",
   "execution_count": 86,
   "metadata": {},
   "outputs": [],
   "source": [
    "def discounted_rewards(rewards, dones, gamma):\n",
    "    ret = 0\n",
    "    discounted = []\n",
    "    for reward, done in zip(rewards[::-1], dones[::-1]):\n",
    "        ret = reward + ret * gamma * (1-done)\n",
    "        discounted.append(ret)\n",
    "    \n",
    "    return discounted[::-1]"
   ]
  },
  {
   "cell_type": "code",
   "execution_count": 87,
   "metadata": {},
   "outputs": [],
   "source": [
    "def train(memory):\n",
    "    actions = []\n",
    "    states = []\n",
    "    next_states = []\n",
    "    rewards = []\n",
    "    dones = []\n",
    "    \n",
    "    for action, reward, state, next_state, done in memory:\n",
    "        actions.append(action)\n",
    "        rewards.append(reward)\n",
    "        states.append(state)\n",
    "        next_states.append(next_state)\n",
    "        dones.append(done)\n",
    "    \n",
    "    if dones[-1] == 0:\n",
    "        next_value = critic(t([next_states[-1]])).data.numpy()[0][0]\n",
    "        # import pdb; pdb.set_trace()\n",
    "        rewards = discounted_rewards(rewards + [next_value], dones + [0], gamma)[:-1]\n",
    "    else:\n",
    "        rewards = discounted_rewards(rewards, dones, gamma)\n",
    "    \n",
    "    actions = t(actions).view(-1, 1)\n",
    "    states = t(states)\n",
    "    next_states = t(next_states)\n",
    "    rewards = t(rewards).view(-1, 1)\n",
    "    dones = t(dones).view(-1, 1)\n",
    "    \n",
    "    # with torch.no_grad():\n",
    "    td_target = rewards # + gamma*critic(next_states)*(1-dones)\n",
    "    value = critic(states)\n",
    "    advantage = td_target - value\n",
    "    \n",
    "    norm_dists = actor(states)\n",
    "    logs_probs = norm_dists.log_prob(actions)\n",
    "    entropy = norm_dists.entropy().mean()\n",
    "\n",
    "    actor_loss = (-logs_probs*advantage.detach()).mean() - entropy*entropy_beta\n",
    "    \n",
    "    writer.add_scalar(\"losses/log_probs\", -logs_probs.mean())\n",
    "    writer.add_scalar(\"losses/entropy\", entropy) \n",
    "    writer.add_scalar(\"losses/actor\", actor_loss)\n",
    "    writer.add_scalar(\"losses/advantage\", advantage.mean())\n",
    "    adam_actor.zero_grad()ss\n",
    "    actor_loss.backward()\n",
    "    nn.utils.clip_grad_norm_([p for g in adam_actor.param_groups for p in g[\"params\"]], 0.5)\n",
    "    adam_actor.step()\n",
    "    \n",
    "    critic_loss = F.mse_loss(td_target, value)\n",
    "    writer.add_scalar(\"losses/critic\", critic_loss)\n",
    "    adam_critic.zero_grad()\n",
    "    critic_loss.backward()\n",
    "    nn.utils.clip_grad_norm_([p for g in adam_critic.param_groups for p in g[\"params\"]], 0.5)\n",
    "    adam_critic.step()"
   ]
  },
  {
   "cell_type": "code",
   "execution_count": 91,
   "metadata": {
    "scrolled": false
   },
   "outputs": [
    {
     "name": "stdout",
     "output_type": "stream",
     "text": [
      "episode: 0 , episode reward: -776.538712231473\n",
      "episode: 10 , episode reward: -130.6899505908335\n"
     ]
    },
    {
     "ename": "KeyboardInterrupt",
     "evalue": "",
     "output_type": "error",
     "traceback": [
      "\u001b[0;31m---------------------------------------------------------------------------\u001b[0m",
      "\u001b[0;31mKeyboardInterrupt\u001b[0m                         Traceback (most recent call last)",
      "\u001b[0;32m<ipython-input-91-f66d973d56c4>\u001b[0m in \u001b[0;36m<module>\u001b[0;34m()\u001b[0m\n\u001b[1;32m     12\u001b[0m \u001b[0;34m\u001b[0m\u001b[0m\n\u001b[1;32m     13\u001b[0m     \u001b[0;32mwhile\u001b[0m \u001b[0;32mnot\u001b[0m \u001b[0mdone\u001b[0m\u001b[0;34m:\u001b[0m\u001b[0;34m\u001b[0m\u001b[0m\n\u001b[0;32m---> 14\u001b[0;31m         \u001b[0mdists\u001b[0m \u001b[0;34m=\u001b[0m \u001b[0mactor\u001b[0m\u001b[0;34m(\u001b[0m\u001b[0mt\u001b[0m\u001b[0;34m(\u001b[0m\u001b[0mstate\u001b[0m\u001b[0;34m)\u001b[0m\u001b[0;34m)\u001b[0m\u001b[0;34m\u001b[0m\u001b[0m\n\u001b[0m\u001b[1;32m     15\u001b[0m         \u001b[0mactions\u001b[0m \u001b[0;34m=\u001b[0m \u001b[0mdists\u001b[0m\u001b[0;34m.\u001b[0m\u001b[0msample\u001b[0m\u001b[0;34m(\u001b[0m\u001b[0;34m)\u001b[0m\u001b[0;34m\u001b[0m\u001b[0m\n\u001b[1;32m     16\u001b[0m         \u001b[0;32mwith\u001b[0m \u001b[0mtorch\u001b[0m\u001b[0;34m.\u001b[0m\u001b[0mno_grad\u001b[0m\u001b[0;34m(\u001b[0m\u001b[0;34m)\u001b[0m\u001b[0;34m:\u001b[0m\u001b[0;34m\u001b[0m\u001b[0m\n",
      "\u001b[0;32m<ipython-input-45-50e2c2a0a65e>\u001b[0m in \u001b[0;36mt\u001b[0;34m(x)\u001b[0m\n\u001b[1;32m      1\u001b[0m \u001b[0;31m# helper function to convert numpy arrays to tensors\u001b[0m\u001b[0;34m\u001b[0m\u001b[0;34m\u001b[0m\u001b[0m\n\u001b[1;32m      2\u001b[0m \u001b[0;32mdef\u001b[0m \u001b[0mt\u001b[0m\u001b[0;34m(\u001b[0m\u001b[0mx\u001b[0m\u001b[0;34m)\u001b[0m\u001b[0;34m:\u001b[0m\u001b[0;34m\u001b[0m\u001b[0m\n\u001b[0;32m----> 3\u001b[0;31m     \u001b[0mx\u001b[0m \u001b[0;34m=\u001b[0m \u001b[0mnp\u001b[0m\u001b[0;34m.\u001b[0m\u001b[0marray\u001b[0m\u001b[0;34m(\u001b[0m\u001b[0mx\u001b[0m\u001b[0;34m)\u001b[0m \u001b[0;32mif\u001b[0m \u001b[0;32mnot\u001b[0m \u001b[0misinstance\u001b[0m\u001b[0;34m(\u001b[0m\u001b[0mx\u001b[0m\u001b[0;34m,\u001b[0m \u001b[0mnp\u001b[0m\u001b[0;34m.\u001b[0m\u001b[0mndarray\u001b[0m\u001b[0;34m)\u001b[0m \u001b[0;32melse\u001b[0m \u001b[0mx\u001b[0m\u001b[0;34m\u001b[0m\u001b[0m\n\u001b[0m\u001b[1;32m      4\u001b[0m     \u001b[0;32mreturn\u001b[0m \u001b[0mtorch\u001b[0m\u001b[0;34m.\u001b[0m\u001b[0mfrom_numpy\u001b[0m\u001b[0;34m(\u001b[0m\u001b[0mx\u001b[0m\u001b[0;34m)\u001b[0m\u001b[0;34m.\u001b[0m\u001b[0mfloat\u001b[0m\u001b[0;34m(\u001b[0m\u001b[0;34m)\u001b[0m\u001b[0;34m\u001b[0m\u001b[0m\n",
      "\u001b[0;31mKeyboardInterrupt\u001b[0m: "
     ]
    }
   ],
   "source": [
    "episode_rewards = []\n",
    "total_steps = 0\n",
    "memory = []\n",
    "\n",
    "for i in range(5000):\n",
    "    done = False\n",
    "    total_reward = 0\n",
    "    state = env.reset()\n",
    "    max_steps = 16\n",
    "    steps = 0\n",
    "    memory.clear()\n",
    "\n",
    "    while not done:\n",
    "        dists = actor(t(state))\n",
    "        actions = dists.sample()\n",
    "        with torch.no_grad():\n",
    "            actions = dists.loc + dists.scale * t(np.random.normal(size=actions.shape))\n",
    "        actions_clamped = torch.clamp(actions, env.action_space.low.min(), env.action_space.high.max())\n",
    "        \n",
    "        next_state, reward, done, info = env.step(actions_clamped.detach().data.numpy())\n",
    "        \n",
    "        memory.append((actions, reward, state, next_state, done))\n",
    "        \n",
    "        total_reward += reward\n",
    "        state = next_state\n",
    "        steps += 1\n",
    "        total_steps += 1\n",
    "        \n",
    "        writer.add_scalar(\"dists/mean\", dists.loc[0], global_step=total_steps)\n",
    "        writer.add_scalar(\"dists/scale\", dists.scale[0], global_step=total_steps)\n",
    "\n",
    "        if done or (steps % max_steps == 0):\n",
    "            train(memory)\n",
    "            memory.clear()\n",
    "            \n",
    "        env.render()\n",
    "    \n",
    "    if len(episode_rewards) % 10 == 0:\n",
    "        print(\"episode:\", len(episode_rewards), \", episode reward:\", total_reward)\n",
    "    writer.add_scalar(\"episode_reward\", total_reward, global_step=total_steps)\n",
    "    episode_rewards.append(total_reward)"
   ]
  },
  {
   "cell_type": "code",
   "execution_count": 89,
   "metadata": {},
   "outputs": [
    {
     "data": {
      "image/png": "[encoded data removed]",
      "text/plain": [
       "<Figure size 432x288 with 1 Axes>"
      ]
     },
     "metadata": {
      "needs_background": "light"
     },
     "output_type": "display_data"
    }
   ],
   "source": [
    "plt.scatter(np.arange(len(episode_rewards)), episode_rewards, s=2)\n",
    "plt.title(\"Total reward per episode (online)\")\n",
    "plt.ylabel(\"reward\")\n",
    "plt.xlabel(\"episode\")\n",
    "plt.show()"
   ]
  },
  {
   "cell_type": "code",
   "execution_count": 69,
   "metadata": {},
   "outputs": [],
   "source": [
    "state = env.reset()"
   ]
  },
  {
   "cell_type": "code",
   "execution_count": 70,
   "metadata": {},
   "outputs": [
    {
     "data": {
      "text/plain": [
       "tensor([-0.2877,  0.0264, -0.1438,  0.5027,  1.0066, -0.1544,  0.4802, -0.1561,\n",
       "         0.2354, -0.0054,  0.3285,  0.1031,  0.7267, -0.0575, -0.0306,  0.7434,\n",
       "         0.4232, -0.1967,  0.2230, -0.1707,  0.0087, -0.2611,  0.7855,  0.3474,\n",
       "         0.8359,  0.1104, -0.2812, -0.2202,  0.3276,  0.1480, -0.3086, -0.1037],\n",
       "       grad_fn=<MulBackward0>)"
      ]
     },
     "execution_count": 70,
     "metadata": {},
     "output_type": "execute_result"
    }
   ],
   "source": [
    "m = actor.model(t(state))\n",
    "m"
   ]
  },
  {
   "cell_type": "code",
   "execution_count": 71,
   "metadata": {},
   "outputs": [
    {
     "data": {
      "text/plain": [
       "tensor([0.0014], grad_fn=<SoftplusBackward>)"
      ]
     },
     "execution_count": 71,
     "metadata": {},
     "output_type": "execute_result"
    }
   ],
   "source": [
    "actor.stds_head(m)"
   ]
  },
  {
   "cell_type": "code",
   "execution_count": 72,
   "metadata": {},
   "outputs": [],
   "source": [
    "env.close()"
   ]
  },
  {
   "cell_type": "markdown",
   "metadata": {},
   "source": [
    "## diario\n",
    "\n",
    "*\n",
    "* architecture review\n",
    "  all tanh, std out of the network, from 32 => 64 neuros\n",
    "* gradient clip\n",
    "\n",
    "scale going up always, changed lr (increased), nsteps (5 => 16), gamma (0.95 => 0.98)"
   ]
  },
  {
   "cell_type": "code",
   "execution_count": null,
   "metadata": {},
   "outputs": [],
   "source": []
  },
  {
   "cell_type": "code",
   "execution_count": null,
   "metadata": {},
   "outputs": [],
   "source": []
  }
 ],
 "metadata": {
  "kernelspec": {
   "display_name": "Python 3",
   "language": "python",
   "name": "python3"
  },
  "language_info": {
   "codemirror_mode": {
    "name": "ipython",
    "version": 3
   },
   "file_extension": ".py",
   "mimetype": "text/x-python",
   "name": "python",
   "nbconvert_exporter": "python",
   "pygments_lexer": "ipython3",
   "version": "3.6.3"
  }
 },
 "nbformat": 4,
 "nbformat_minor": 2
}
