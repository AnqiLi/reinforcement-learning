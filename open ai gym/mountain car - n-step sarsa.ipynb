{
 "cells": [
  {
   "cell_type": "code",
   "execution_count": 1,
   "metadata": {},
   "outputs": [],
   "source": [
    "import gym\n",
    "import matplotlib.pyplot as plt\n",
    "import numpy as np\n",
    "from collections import defaultdict\n",
    "import math, random"
   ]
  },
  {
   "cell_type": "code",
   "execution_count": 2,
   "metadata": {},
   "outputs": [],
   "source": [
    "%matplotlib inline"
   ]
  },
  {
   "cell_type": "code",
   "execution_count": 3,
   "metadata": {},
   "outputs": [],
   "source": [
    "env = gym.make(\"MountainCarContinuous-v0\")"
   ]
  },
  {
   "cell_type": "code",
   "execution_count": 4,
   "metadata": {},
   "outputs": [
    {
     "data": {
      "text/plain": [
       "((2,), array([-1.2 , -0.07]), array([0.6 , 0.07]))"
      ]
     },
     "execution_count": 4,
     "metadata": {},
     "output_type": "execute_result"
    }
   ],
   "source": [
    "env.observation_space.shape, env.observation_space.low, env.observation_space.high"
   ]
  },
  {
   "cell_type": "code",
   "execution_count": 5,
   "metadata": {},
   "outputs": [],
   "source": [
    "def featurize_state(state):\n",
    "    return np.array([state[0], state[0]**2, state[0]**3, state[0]**4, state[0]**5,\n",
    "                    state[1], state[1]**2, state[1]**3, state[1]**4, state[1]**5])"
   ]
  },
  {
   "cell_type": "code",
   "execution_count": 6,
   "metadata": {},
   "outputs": [],
   "source": [
    "def actions(env):\n",
    "    return np.linspace(env.action_space.low, env.action_space.high, 10)"
   ]
  },
  {
   "cell_type": "code",
   "execution_count": 7,
   "metadata": {},
   "outputs": [],
   "source": [
    "state = env.observation_space.sample()\n",
    "state = featurize_state(state)\n",
    "\n",
    "def init_weights():\n",
    "    state = env.observation_space.sample()\n",
    "    state = featurize_state(state)\n",
    "    return np.random.uniform(-1/np.sqrt(state.shape[0]),\n",
    "                            1/np.sqrt(state.shape[0]),\n",
    "                            (actions(env).shape[0], state.shape[0]))\n",
    "\n",
    "def q(state, action_idx):\n",
    "    state = featurize_state(state)\n",
    "    return np.dot(weights[action_idx], state)"
   ]
  },
  {
   "cell_type": "code",
   "execution_count": 8,
   "metadata": {},
   "outputs": [],
   "source": [
    "num_actions = len(actions(env))\n",
    "def select_action(state, greedy=0.2):\n",
    "    state = featurize_state(state)\n",
    "    max_arg = np.dot(weights, state).argmax()\n",
    "    \n",
    "    policy = np.full(num_actions, greedy/num_actions)\n",
    "    policy[max_arg] = 1 - greedy + greedy/num_actions\n",
    "    \n",
    "    return np.random.choice(np.arange(num_actions), p=policy)"
   ]
  },
  {
   "cell_type": "code",
   "execution_count": 44,
   "metadata": {},
   "outputs": [],
   "source": [
    "state = env.reset()\n",
    "weights = init_weights()\n",
    "action = None\n",
    "done = False"
   ]
  },
  {
   "cell_type": "code",
   "execution_count": 47,
   "metadata": {},
   "outputs": [],
   "source": [
    "lr = learning_rate = 0.01\n",
    "df = discount_factor = 0.9\n",
    "n = 3\n",
    "\n",
    "episodes = []\n",
    "iterations = []\n",
    "\n",
    "for i in range(1):\n",
    "    count = 0\n",
    "    state = env.reset()\n",
    "    done = False\n",
    "    action = None\n",
    "    T = float(\"inf\")\n",
    "    tau = float(\"-inf\")\n",
    "    t = 0\n",
    "    rewards = []\n",
    "    done_hitted = False\n",
    "    \n",
    "    while tau != T - 1:\n",
    "        count += 1\n",
    "        # if count >= 300: raise Exception(\"yay\")\n",
    "        if action is None:\n",
    "            action = select_action(state)\n",
    "\n",
    "        next_state, reward, done, _ = env.step([actions(env)[action]])\n",
    "        if done and not done_hitted:\n",
    "            T = t + 1\n",
    "            done_hitted = True\n",
    "            \n",
    "        next_action = select_action(next_state)\n",
    "        \n",
    "        tau = t - n + 1\n",
    "        \n",
    "        if tau >= 0:\n",
    "            rs = rewards[tau+1:min(tau+n, T)]\n",
    "            G = sum([r*df**idx for idx, r in enumerate(rs)])\n",
    "            if tau + n < T: G = G + q(next_state, next_action)*df**n\n",
    "                \n",
    "            w = weights[action]\n",
    "            w = w + lr*(G - q(state, action))*featurize_state(state)\n",
    "\n",
    "            weights[action] = w\n",
    "\n",
    "        action = next_action\n",
    "        state = next_state\n",
    "        env.render()\n",
    "        t += 1\n",
    "        \n",
    "    episodes.append(i)\n",
    "    iterations.append(count)\n",
    "    env.render()"
   ]
  },
  {
   "cell_type": "code",
   "execution_count": 37,
   "metadata": {},
   "outputs": [
    {
     "data": {
      "image/png": "[encoded data removed]",
      "text/plain": [
       "<matplotlib.figure.Figure at 0x1155039b0>"
      ]
     },
     "metadata": {},
     "output_type": "display_data"
    }
   ],
   "source": [
    "plt.figure(figsize=(14, 5), dpi=80)\n",
    "plt.scatter(episodes, iterations, s=0.5)\n",
    "#plt.hist(iterations, bins=100)\n",
    "None"
   ]
  },
  {
   "cell_type": "code",
   "execution_count": 64,
   "metadata": {
    "scrolled": true
   },
   "outputs": [
    {
     "data": {
      "text/plain": [
       "(202, array([[-0.13383668, -0.26133253, -0.18449042,  0.08677108,  0.06254631,\n",
       "         -0.15061691,  0.16906858, -0.06251222,  0.07983635, -0.14186024],\n",
       "        [-0.05345007, -0.03247772, -0.14748635, -0.174455  , -0.08724804,\n",
       "         -0.18091682,  0.28122277,  0.06860553,  0.22778229,  0.19586654],\n",
       "        [-0.09268782, -0.07004116, -0.02485723, -0.05054954, -0.07500264,\n",
       "         -0.24865851,  0.08908225,  0.1064135 , -0.13726708, -0.26347313],\n",
       "        [-0.00722484,  0.08859729,  0.07546832,  0.05640408,  0.00233169,\n",
       "          0.06386022, -0.13256574,  0.30330713,  0.04238674,  0.13221169],\n",
       "        [-0.01910994,  0.00648791, -0.1253033 , -0.081292  , -0.01100774,\n",
       "         -0.15696131,  0.19084809,  0.11525576, -0.09798487, -0.05958179],\n",
       "        [-0.1372828 , -0.20033466, -0.03238448, -0.05364915, -0.12932985,\n",
       "          0.01981108,  0.05396511, -0.20613241, -0.07531075,  0.1247759 ],\n",
       "        [-0.10363805, -0.25081688, -0.16896908,  0.24315942,  0.1815737 ,\n",
       "         -0.14699275,  0.19022494,  0.21851419,  0.26020678,  0.18720707],\n",
       "        [-0.01265579,  0.24167331,  0.26767328, -0.12764771, -0.20161029,\n",
       "         -0.1040776 ,  0.03898223, -0.31178328, -0.29660674, -0.22976241],\n",
       "        [ 0.08708334,  0.10324454, -0.17512389,  0.09694226,  0.21055723,\n",
       "         -0.2119353 , -0.06426451,  0.06814469,  0.02813327, -0.03687525],\n",
       "        [ 0.02974516,  0.21678022,  0.07533856, -0.12043295, -0.09031784,\n",
       "         -0.16903346,  0.29631335, -0.30342659,  0.10582635, -0.21252685]]))"
      ]
     },
     "execution_count": 64,
     "metadata": {},
     "output_type": "execute_result"
    }
   ],
   "source": [
    "count, weights"
   ]
  },
  {
   "cell_type": "code",
   "execution_count": 90,
   "metadata": {},
   "outputs": [],
   "source": [
    "if False:\n",
    "    np.save(\"weights\", weights)"
   ]
  },
  {
   "cell_type": "code",
   "execution_count": 12,
   "metadata": {},
   "outputs": [],
   "source": [
    "if False:\n",
    "    weights = np.load(\"weights.npy\")"
   ]
  },
  {
   "cell_type": "code",
   "execution_count": null,
   "metadata": {},
   "outputs": [],
   "source": []
  }
 ],
 "metadata": {
  "kernelspec": {
   "display_name": "Python 3",
   "language": "python",
   "name": "python3"
  },
  "language_info": {
   "codemirror_mode": {
    "name": "ipython",
    "version": 3
   },
   "file_extension": ".py",
   "mimetype": "text/x-python",
   "name": "python",
   "nbconvert_exporter": "python",
   "pygments_lexer": "ipython3",
   "version": "3.6.3"
  }
 },
 "nbformat": 4,
 "nbformat_minor": 2
}
