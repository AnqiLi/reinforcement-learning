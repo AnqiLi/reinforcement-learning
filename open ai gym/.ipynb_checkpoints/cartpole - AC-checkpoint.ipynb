{
 "cells": [
  {
   "cell_type": "code",
   "execution_count": 1,
   "metadata": {},
   "outputs": [
    {
     "name": "stderr",
     "output_type": "stream",
     "text": [
      "/Users/alvaro/.asdf/installs/python/3.6.3/lib/python3.6/importlib/_bootstrap.py:219: RuntimeWarning: compiletime version 3.5 of module 'tensorflow.python.framework.fast_tensor_util' does not match runtime version 3.6\n",
      "  return f(*args, **kwds)\n",
      "/Users/alvaro/.asdf/installs/python/3.6.3/lib/python3.6/site-packages/h5py/__init__.py:36: FutureWarning: Conversion of the second argument of issubdtype from `float` to `np.floating` is deprecated. In future, it will be treated as `np.float64 == np.dtype(float).type`.\n",
      "  from ._conv import register_converters as _register_converters\n"
     ]
    }
   ],
   "source": [
    "import tensorflow as tf\n",
    "import gym, random\n",
    "import pandas as pd\n",
    "import matplotlib.pyplot as plt\n",
    "import numpy as np\n",
    "%matplotlib inline"
   ]
  },
  {
   "cell_type": "code",
   "execution_count": 2,
   "metadata": {},
   "outputs": [],
   "source": [
    "env = gym.make(\"CartPole-v1\")"
   ]
  },
  {
   "cell_type": "code",
   "execution_count": 3,
   "metadata": {},
   "outputs": [
    {
     "data": {
      "text/plain": [
       "(Discrete(2), Box(4,), (-inf, inf))"
      ]
     },
     "execution_count": 3,
     "metadata": {},
     "output_type": "execute_result"
    }
   ],
   "source": [
    "env.action_space, env.observation_space, env.reward_range"
   ]
  },
  {
   "cell_type": "code",
   "execution_count": 4,
   "metadata": {},
   "outputs": [
    {
     "data": {
      "text/plain": [
       "()"
      ]
     },
     "execution_count": 4,
     "metadata": {},
     "output_type": "execute_result"
    }
   ],
   "source": [
    "env.action_space.shape"
   ]
  },
  {
   "cell_type": "code",
   "execution_count": 5,
   "metadata": {},
   "outputs": [
    {
     "data": {
      "text/plain": [
       "(4,)"
      ]
     },
     "execution_count": 5,
     "metadata": {},
     "output_type": "execute_result"
    }
   ],
   "source": [
    "env.observation_space.shape"
   ]
  },
  {
   "cell_type": "code",
   "execution_count": 6,
   "metadata": {},
   "outputs": [],
   "source": [
    "reshape_state = lambda state: state.reshape(1, env.observation_space.shape[0])\n",
    "def take_step(action):\n",
    "    new_state, reward, done, info = env.step(action)\n",
    "    return reshape_state(new_state), reward, done, info"
   ]
  },
  {
   "cell_type": "code",
   "execution_count": 7,
   "metadata": {},
   "outputs": [],
   "source": [
    "state_in = tf.keras.layers.Input(env.observation_space.shape, name=\"state_in\")\n",
    "\n",
    "x = tf.keras.layers.Dense(8, activation=\"relu\")(state_in)\n",
    "# x = tf.keras.layers.Dense(8, activation=\"relu\")(x)\n",
    "x = tf.keras.layers.Dense(env.action_space.n, activation=\"linear\")(x)\n",
    "\n",
    "policy = tf.keras.models.Model([state_in], x)\n",
    "\n",
    "optimizer = tf.keras.optimizers.Adam(lr=0.1)\n",
    "policy.compile(optimizer=optimizer, loss=\"mse\")"
   ]
  },
  {
   "cell_type": "code",
   "execution_count": 8,
   "metadata": {},
   "outputs": [],
   "source": [
    "state_in = tf.keras.layers.Input(env.observation_space.shape, name=\"state_in\")\n",
    "\n",
    "x = tf.keras.layers.Dense(8, activation=\"relu\")(state_in)\n",
    "# x = tf.keras.layers.Dense(8, activation=\"relu\")(x)\n",
    "x = tf.keras.layers.Dense(1, activation=\"linear\")(x)\n",
    "\n",
    "value = tf.keras.models.Model([state_in], x)\n",
    "\n",
    "optimizer = tf.keras.optimizers.Adam(lr=0.1)\n",
    "value.compile(optimizer=optimizer, loss=\"mse\")"
   ]
  },
  {
   "cell_type": "code",
   "execution_count": 9,
   "metadata": {},
   "outputs": [],
   "source": [
    "def update_value(value, state, td_target):\n",
    "    value.optimizer.lr = 0.005\n",
    "    value.fit(state, td_target, epochs=1, verbose=0)"
   ]
  },
  {
   "cell_type": "code",
   "execution_count": 10,
   "metadata": {},
   "outputs": [],
   "source": [
    "def update_policy(policy, delta, state, action):\n",
    "    predictions = policy.predict(state)\n",
    "    \n",
    "    for row in range(len(action)):\n",
    "        predictions[row, action] = delta\n",
    "    \n",
    "    policy.optimizer.lr = 0.005\n",
    "    policy.fit(state, predictions, epochs=1, verbose=0)"
   ]
  },
  {
   "cell_type": "code",
   "execution_count": 11,
   "metadata": {},
   "outputs": [],
   "source": [
    "def n_to_onehot(action):\n",
    "    zeros = np.zeros(env.action_space.n, dtype=np.float32)\n",
    "    zeros[action] = 1.\n",
    "    return zeros.reshape(1, env.action_space.n)"
   ]
  },
  {
   "cell_type": "code",
   "execution_count": 12,
   "metadata": {},
   "outputs": [],
   "source": [
    "def value_replay_to_numpy(value_samples):\n",
    "    states, td_targets = [] , []\n",
    "    for state, td_target in value_samples:\n",
    "        states.append(state)\n",
    "        td_targets.append(td_target)\n",
    "    \n",
    "    states = np.array(states).reshape(len(states), env.observation_space.shape[0])\n",
    "    td_targets = np.array(td_targets).reshape(len(td_targets), 1)\n",
    "    return states, td_targets\n",
    "\n",
    "def policy_replay_to_numpy(policy_samples):\n",
    "    deltas, states, actions = [] , [], []\n",
    "    for delta, state, action in policy_samples:\n",
    "        deltas.append(delta)\n",
    "        states.append(state)\n",
    "        actions.append(action)\n",
    "    \n",
    "    deltas = np.array(deltas).reshape(len(deltas), 1)\n",
    "    states = np.array(states).reshape(len(states), env.observation_space.shape[0])\n",
    "    actions = np.array(actions).reshape(len(actions), 1)\n",
    "    return deltas, states, actions"
   ]
  },
  {
   "cell_type": "code",
   "execution_count": 13,
   "metadata": {},
   "outputs": [],
   "source": [
    "from collections import deque\n",
    "value_replay = deque([], 5000)\n",
    "policy_replay = deque([], 5000)"
   ]
  },
  {
   "cell_type": "code",
   "execution_count": 14,
   "metadata": {},
   "outputs": [],
   "source": [
    "def run(gamma=0.9, render=False, replay_size=100):\n",
    "    # reset\n",
    "    I = 1\n",
    "    lr_value = lr_policy = 0.01\n",
    "    step = 0\n",
    "    initial_state = state = reshape_state(env.reset())\n",
    "\n",
    "    while True:\n",
    "        if render: env.render()\n",
    "            \n",
    "        # choose action\n",
    "        action_probs = policy.predict(state)[0]\n",
    "        e_x = np.exp(action_probs - np.max(action_probs))\n",
    "        softmax_probs = e_x / e_x.sum()\n",
    "        action = np.random.choice(range(env.action_space.n), p=softmax_probs)\n",
    "    \n",
    "        # take action\n",
    "        new_state, reward, done, _ = take_step(action)\n",
    "\n",
    "        # calculate td error\n",
    "        if done:\n",
    "            td_target = np.array([reward], dtype=np.float32)\n",
    "        else:\n",
    "            td_target = reward + gamma * value.predict([new_state])[0]\n",
    "            \n",
    "        delta = td_target - value.predict(state)[0]\n",
    "        \n",
    "        # update value weights\n",
    "        value_replay.append((state, td_target))\n",
    "        update_value(value, [state], [td_target])\n",
    "        \n",
    "        # update policy weights\n",
    "        policy_replay.append((delta, state, action))\n",
    "        update_policy(policy, delta, [state], [action])\n",
    "        \n",
    "        if done:\n",
    "            value_samples = random.sample(value_replay, min(len(value_replay), replay_size))\n",
    "            states, td_targets = value_replay_to_numpy(value_samples)\n",
    "            update_value(value, states, td_targets)\n",
    "            \n",
    "            policy_samples = random.sample(policy_replay, min(len(policy_replay), replay_size))\n",
    "            deltas, states, actions = policy_replay_to_numpy(policy_samples)\n",
    "            update_policy(policy, deltas, states, actions)\n",
    "            \n",
    "            break\n",
    "\n",
    "        # update algorithm vars\n",
    "        # gamma = gamma * gamma\n",
    "        state = new_state\n",
    "        step += 1\n",
    "        if step > 500:\n",
    "            break\n",
    "    \n",
    "    return step"
   ]
  },
  {
   "cell_type": "code",
   "execution_count": 27,
   "metadata": {
    "scrolled": true
   },
   "outputs": [
    {
     "name": "stdout",
     "output_type": "stream",
     "text": [
      "499.0 499.00000000000006\n"
     ]
    },
    {
     "data": {
      "image/png": "[encoded data removed]",
      "text/plain": [
       "<matplotlib.figure.Figure at 0x116a30278>"
      ]
     },
     "metadata": {},
     "output_type": "display_data"
    }
   ],
   "source": [
    "steps = [run(gamma=1, render=True, replay_size=100) for i in range(3)]\n",
    "print(np.mean(steps), np.percentile(steps, 10))\n",
    "plt.scatter(range(len(steps)), steps, s=1)\n",
    "plt.show()"
   ]
  },
  {
   "cell_type": "code",
   "execution_count": 21,
   "metadata": {},
   "outputs": [],
   "source": [
    "env.close()"
   ]
  },
  {
   "cell_type": "code",
   "execution_count": 26,
   "metadata": {},
   "outputs": [],
   "source": [
    "# value.save_weights(\"weights/value-cartpole-3000-iterations.h5\")"
   ]
  },
  {
   "cell_type": "code",
   "execution_count": 18,
   "metadata": {},
   "outputs": [
    {
     "data": {
      "text/plain": [
       "2"
      ]
     },
     "execution_count": 18,
     "metadata": {},
     "output_type": "execute_result"
    }
   ],
   "source": [
    "1+1"
   ]
  },
  {
   "cell_type": "code",
   "execution_count": null,
   "metadata": {},
   "outputs": [],
   "source": []
  }
 ],
 "metadata": {
  "kernelspec": {
   "display_name": "Python 3",
   "language": "python",
   "name": "python3"
  },
  "language_info": {
   "codemirror_mode": {
    "name": "ipython",
    "version": 3
   },
   "file_extension": ".py",
   "mimetype": "text/x-python",
   "name": "python",
   "nbconvert_exporter": "python",
   "pygments_lexer": "ipython3",
   "version": "3.6.3"
  }
 },
 "nbformat": 4,
 "nbformat_minor": 2
}
