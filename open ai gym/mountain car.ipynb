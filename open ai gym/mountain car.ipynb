{
 "cells": [
  {
   "cell_type": "code",
   "execution_count": 1,
   "metadata": {},
   "outputs": [],
   "source": [
    "import gym\n",
    "import matplotlib.pyplot as plt\n",
    "import numpy as np\n",
    "from collections import defaultdict\n",
    "import math, random"
   ]
  },
  {
   "cell_type": "code",
   "execution_count": 2,
   "metadata": {},
   "outputs": [],
   "source": [
    "%matplotlib inline"
   ]
  },
  {
   "cell_type": "code",
   "execution_count": 3,
   "metadata": {},
   "outputs": [],
   "source": [
    "env = gym.make(\"MountainCarContinuous-v0\")"
   ]
  },
  {
   "cell_type": "code",
   "execution_count": 4,
   "metadata": {},
   "outputs": [],
   "source": [
    "initial_state = env.reset()"
   ]
  },
  {
   "cell_type": "code",
   "execution_count": 5,
   "metadata": {},
   "outputs": [],
   "source": [
    "def step(env, action):\n",
    "    state, reward, final, info = env.step(action)\n",
    "    return state, reward, final, info"
   ]
  },
  {
   "cell_type": "code",
   "execution_count": 6,
   "metadata": {},
   "outputs": [
    {
     "data": {
      "text/plain": [
       "((2,), array([-1.2 , -0.07]), array([0.6 , 0.07]))"
      ]
     },
     "execution_count": 6,
     "metadata": {},
     "output_type": "execute_result"
    }
   ],
   "source": [
    "env.observation_space.shape, env.observation_space.low, env.observation_space.high"
   ]
  },
  {
   "cell_type": "code",
   "execution_count": 7,
   "metadata": {},
   "outputs": [],
   "source": [
    "def featurize_state(state):\n",
    "    return np.array([state[0], state[0]**2, state[0]**3, state[0]**4, state[0]**5,\n",
    "                    state[1], state[1]**2, state[1]**3, state[1]**4, state[1]**5])\n",
    "\n",
    "def action_space(env):\n",
    "    env.action_space.low()"
   ]
  },
  {
   "cell_type": "code",
   "execution_count": 8,
   "metadata": {},
   "outputs": [],
   "source": [
    "def actions(env):\n",
    "    return np.linspace(env.action_space.low, env.action_space.high, 10)"
   ]
  },
  {
   "cell_type": "code",
   "execution_count": 9,
   "metadata": {},
   "outputs": [],
   "source": [
    "state = env.observation_space.sample()\n",
    "state = featurize_state(state)\n",
    "\n",
    "def init_weights():\n",
    "    state = env.observation_space.sample()\n",
    "    state = featurize_state(state)\n",
    "    return np.random.uniform(-1/np.sqrt(state.shape[0]),\n",
    "                            1/np.sqrt(state.shape[0]),\n",
    "                            (actions(env).shape[0], state.shape[0]))\n",
    "weights = init_weights()\n",
    "\n",
    "def q(state, action_idx):\n",
    "    state = featurize_state(state)\n",
    "    return np.dot(weights[action_idx], state)"
   ]
  },
  {
   "cell_type": "code",
   "execution_count": 10,
   "metadata": {},
   "outputs": [],
   "source": [
    "num_actions = len(actions(env))\n",
    "def select_action(state, greedy=0.2):\n",
    "    state = featurize_state(state)\n",
    "    max_arg = np.dot(weights, state).argmax()\n",
    "    \n",
    "    if np.random.uniform() < 1 - greedy:\n",
    "        return max_arg\n",
    "    else:\n",
    "        return random.randint(0, num_actions-1)"
   ]
  },
  {
   "cell_type": "code",
   "execution_count": 11,
   "metadata": {},
   "outputs": [],
   "source": [
    "state = env.reset()\n",
    "weights = init_weights()\n",
    "action = None\n",
    "done = False"
   ]
  },
  {
   "cell_type": "code",
   "execution_count": 16,
   "metadata": {},
   "outputs": [],
   "source": [
    "lr = learning_rate = 0.05\n",
    "df = discount_factor = 1\n",
    "\n",
    "episodes = []\n",
    "iterations = []\n",
    "\n",
    "count = 0\n",
    "for i in range(1):\n",
    "    \n",
    "    state = env.reset()\n",
    "    done = False\n",
    "    action = None\n",
    "    \n",
    "    while not done:\n",
    "        count += 1\n",
    "        # if count >= 300: raise Exception(\"yay\")\n",
    "        if action is None:\n",
    "            action = select_action(state)\n",
    "\n",
    "        next_state, reward, done, _ = step(env, [actions(env)[action]])\n",
    "        reward = 0\n",
    "        if done:\n",
    "            w = weights[action]\n",
    "            w = w + lr*(reward - q(state, action))*featurize_state(state)\n",
    "            weights[action] = w\n",
    "            break\n",
    "            \n",
    "        next_action = select_action(next_state)\n",
    "        w = weights[action]\n",
    "\n",
    "        w = w + lr*(reward + df*q(next_state, next_action) - q(state, action))*featurize_state(state)\n",
    "\n",
    "        weights[action] = w\n",
    "\n",
    "        action = next_action\n",
    "        state = next_state\n",
    "        env.render()\n",
    "        \n",
    "    episodes.append(i)\n",
    "    iterations.append(count)\n",
    "    env.render()"
   ]
  },
  {
   "cell_type": "code",
   "execution_count": 160,
   "metadata": {},
   "outputs": [
    {
     "data": {
      "image/png": "[encoded data removed]",
      "text/plain": [
       "<matplotlib.figure.Figure at 0x11651f668>"
      ]
     },
     "metadata": {},
     "output_type": "display_data"
    }
   ],
   "source": [
    "plt.figure(figsize=(14, 5), dpi=80)\n",
    "plt.scatter(iterations, episodes, s=0.5)\n",
    "#plt.hist(iterations, bins=100)\n",
    "None"
   ]
  },
  {
   "cell_type": "code",
   "execution_count": 120,
   "metadata": {
    "scrolled": true
   },
   "outputs": [
    {
     "data": {
      "text/plain": [
       "(999, array([[-0.02085557,  0.0595762 ,  0.11831713, -0.18363152, -0.19683867,\n",
       "         -0.01796869,  0.28806498, -0.021476  ,  0.24860996,  0.18516945],\n",
       "        [ 0.01440559, -0.05804852, -0.22202222, -0.2264345 , -0.07399336,\n",
       "          0.0836368 ,  0.03485213,  0.13657303, -0.18549418,  0.08907543],\n",
       "        [-0.08892545, -0.23147879, -0.16591371, -0.0597599 , -0.0296756 ,\n",
       "          0.0452843 , -0.16806746,  0.11934212,  0.05252277,  0.08751585],\n",
       "        [ 0.00821088, -0.05516365, -0.10181619, -0.01925168,  0.0219685 ,\n",
       "          0.09394311,  0.27535469, -0.22059754,  0.14107741,  0.07010356],\n",
       "        [-0.036048  , -0.08865107, -0.11465601, -0.16514499, -0.0954818 ,\n",
       "          0.15807466, -0.01672393,  0.20743621,  0.02093894,  0.29951216],\n",
       "        [-0.03579179, -0.01706876,  0.1083824 , -0.00311162, -0.07572744,\n",
       "          0.22687012,  0.1699998 ,  0.25096862,  0.01865831,  0.17707882],\n",
       "        [-0.10621423, -0.29940879, -0.25072268, -0.12465697, -0.05695309,\n",
       "          0.05062194,  0.12632425,  0.01576961,  0.02080412, -0.08271762],\n",
       "        [-0.04480179, -0.13596811, -0.23614967, -0.34553927, -0.18651549,\n",
       "         -0.0329766 ,  0.08021832,  0.07155519,  0.26401518, -0.064796  ],\n",
       "        [-0.06205904, -0.12404013, -0.02585845, -0.07235029, -0.08973349,\n",
       "         -0.08904176, -0.06319158,  0.09375384,  0.21721181, -0.05041887],\n",
       "        [-0.0676916 , -0.11858236,  0.12053182,  0.21836649,  0.05770418,\n",
       "          0.20416503, -0.09088759, -0.31010173, -0.16394684,  0.11900846]]))"
      ]
     },
     "execution_count": 120,
     "metadata": {},
     "output_type": "execute_result"
    }
   ],
   "source": [
    "count, weights"
   ]
  },
  {
   "cell_type": "code",
   "execution_count": 90,
   "metadata": {},
   "outputs": [],
   "source": [
    "if False:\n",
    "    np.save(\"weights\", weights)"
   ]
  },
  {
   "cell_type": "code",
   "execution_count": 12,
   "metadata": {},
   "outputs": [],
   "source": [
    "if True:\n",
    "    weights = np.load(\"weights.npy\")"
   ]
  },
  {
   "cell_type": "code",
   "execution_count": null,
   "metadata": {},
   "outputs": [],
   "source": []
  }
 ],
 "metadata": {
  "kernelspec": {
   "display_name": "Python 3",
   "language": "python",
   "name": "python3"
  },
  "language_info": {
   "codemirror_mode": {
    "name": "ipython",
    "version": 3
   },
   "file_extension": ".py",
   "mimetype": "text/x-python",
   "name": "python",
   "nbconvert_exporter": "python",
   "pygments_lexer": "ipython3",
   "version": "3.6.3"
  }
 },
 "nbformat": 4,
 "nbformat_minor": 2
}
