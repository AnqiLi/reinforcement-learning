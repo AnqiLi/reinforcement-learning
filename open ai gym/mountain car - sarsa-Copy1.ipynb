{
 "cells": [
  {
   "cell_type": "code",
   "execution_count": 1,
   "metadata": {},
   "outputs": [],
   "source": [
    "import gym\n",
    "import matplotlib.pyplot as plt\n",
    "import numpy as np\n",
    "from collections import defaultdict\n",
    "import math, random"
   ]
  },
  {
   "cell_type": "code",
   "execution_count": 2,
   "metadata": {},
   "outputs": [],
   "source": [
    "%matplotlib inline"
   ]
  },
  {
   "cell_type": "code",
   "execution_count": 3,
   "metadata": {},
   "outputs": [],
   "source": [
    "env = gym.make(\"CartPole-v1\")"
   ]
  },
  {
   "cell_type": "code",
   "execution_count": 4,
   "metadata": {},
   "outputs": [
    {
     "data": {
      "text/plain": [
       "(array([-0.0182929 , -0.00087211, -0.03741516, -0.0190165 ]),)"
      ]
     },
     "execution_count": 4,
     "metadata": {},
     "output_type": "execute_result"
    }
   ],
   "source": [
    "initial_state = env.reset(),\n",
    "initial_state"
   ]
  },
  {
   "cell_type": "code",
   "execution_count": 53,
   "metadata": {},
   "outputs": [],
   "source": [
    "def step(env, action):\n",
    "    state, reward, final, info = env.step(action)\n",
    "    return state, reward, final, info"
   ]
  },
  {
   "cell_type": "code",
   "execution_count": 120,
   "metadata": {},
   "outputs": [
    {
     "data": {
      "text/plain": [
       "((4,),\n",
       " array([-4.80000000e+00, -3.40282347e+38, -4.18879020e-01, -3.40282347e+38]),\n",
       " array([4.80000000e+00, 3.40282347e+38, 4.18879020e-01, 3.40282347e+38]))"
      ]
     },
     "execution_count": 120,
     "metadata": {},
     "output_type": "execute_result"
    }
   ],
   "source": [
    "env.observation_space.shape, env.observation_space.low, env.observation_space.high"
   ]
  },
  {
   "cell_type": "code",
   "execution_count": 243,
   "metadata": {},
   "outputs": [],
   "source": [
    "def featurize_state(state):\n",
    "    return np.array([state[2], state[3], state[0]*state[2], state[0]*state[3],\n",
    "                    state[2]*state[3], state[0], state[1]])\n",
    "\n",
    "def action_space(env):\n",
    "    env.action_space.low()"
   ]
  },
  {
   "cell_type": "code",
   "execution_count": 244,
   "metadata": {},
   "outputs": [],
   "source": [
    "def actions(env):\n",
    "    # return np.linspace(env.action_space.low, env.action_space.high, 10)\n",
    "    return np.array([0, 1])"
   ]
  },
  {
   "cell_type": "code",
   "execution_count": 245,
   "metadata": {},
   "outputs": [],
   "source": [
    "state = env.observation_space.sample()\n",
    "state = featurize_state(state)\n",
    "\n",
    "def init_weights():\n",
    "    state = env.observation_space.sample()\n",
    "    state = featurize_state(state)\n",
    "    # return np.random.uniform(-1/np.sqrt(state.shape[0]),\n",
    "    #                         1/np.sqrt(state.shape[0]),\n",
    "    #                         (actions(env).shape[0], state.shape[0]))\n",
    "    return np.zeros((actions(env).shape[0], state.shape[0]), dtype=np.float32)\n",
    "weights = init_weights()\n",
    "\n",
    "def q(state, action_idx):\n",
    "    state = featurize_state(state)\n",
    "    return np.dot(weights[action_idx], state)"
   ]
  },
  {
   "cell_type": "code",
   "execution_count": 246,
   "metadata": {},
   "outputs": [],
   "source": [
    "num_actions = len(actions(env))\n",
    "def select_action(state, greedy=0.2):\n",
    "    state = featurize_state(state)\n",
    "    max_arg = np.dot(weights, state).argmax()\n",
    "    \n",
    "    if np.random.uniform() < 1 - greedy:\n",
    "        return max_arg\n",
    "    else:\n",
    "        return random.randint(0, num_actions-1)"
   ]
  },
  {
   "cell_type": "code",
   "execution_count": 285,
   "metadata": {},
   "outputs": [],
   "source": [
    "state = env.reset()\n",
    "weights = init_weights()\n",
    "action = None\n",
    "done = False"
   ]
  },
  {
   "cell_type": "code",
   "execution_count": 286,
   "metadata": {},
   "outputs": [],
   "source": [
    "lr = learning_rate = 0.05\n",
    "df = discount_factor = 0.9\n",
    "\n",
    "episodes = []\n",
    "iterations = []\n",
    "\n",
    "\n",
    "for i in range(100):\n",
    "    count = 0\n",
    "    state = env.reset()\n",
    "    done = False\n",
    "    action = None\n",
    "    greedy=0.2\n",
    "    \n",
    "    while not done:\n",
    "        count += 1\n",
    "        # if count >= 300: raise Exception(\"yay\")\n",
    "        if action is None:\n",
    "            action = select_action(state, greedy=greedy)\n",
    "\n",
    "        next_state, reward, done, _ = env.step(actions(env)[action])\n",
    "        \n",
    "        if done:\n",
    "            w = weights[action]\n",
    "            w = w + lr*(reward - q(state, action))*featurize_state(state)\n",
    "            weights[action] = w\n",
    "            break\n",
    "            \n",
    "        next_action = select_action(next_state, greedy=greedy)\n",
    "        w = weights[action]\n",
    "\n",
    "        w = w + lr*(reward + df*q(next_state, next_action) - q(state, action))*featurize_state(state)\n",
    "\n",
    "        weights[action] = w\n",
    "\n",
    "        action = next_action\n",
    "        state = next_state\n",
    "        # env.render()\n",
    "        \n",
    "    episodes.append(i)\n",
    "    iterations.append(count)\n",
    "    env.render()"
   ]
  },
  {
   "cell_type": "code",
   "execution_count": 287,
   "metadata": {},
   "outputs": [
    {
     "data": {
      "image/png": "[encoded data removed]",
      "text/plain": [
       "<matplotlib.figure.Figure at 0x1138532e8>"
      ]
     },
     "metadata": {},
     "output_type": "display_data"
    }
   ],
   "source": [
    "plt.figure(figsize=(14, 5), dpi=80)\n",
    "plt.scatter(episodes, iterations, s=0.5)\n",
    "#plt.hist(iterations, bins=100)\n",
    "None"
   ]
  },
  {
   "cell_type": "code",
   "execution_count": 194,
   "metadata": {
    "scrolled": true
   },
   "outputs": [
    {
     "data": {
      "text/plain": [
       "(60, array([[ 2.0565536, -2.9715855],\n",
       "        [-1.8772595,  2.7955716]], dtype=float32))"
      ]
     },
     "execution_count": 194,
     "metadata": {},
     "output_type": "execute_result"
    }
   ],
   "source": [
    "count, weights"
   ]
  },
  {
   "cell_type": "code",
   "execution_count": 90,
   "metadata": {},
   "outputs": [],
   "source": [
    "if False:\n",
    "    np.save(\"weights\", weights)"
   ]
  },
  {
   "cell_type": "code",
   "execution_count": 21,
   "metadata": {},
   "outputs": [],
   "source": [
    "if True:\n",
    "    weights = np.load(\"weights.npy\")"
   ]
  },
  {
   "cell_type": "code",
   "execution_count": null,
   "metadata": {},
   "outputs": [],
   "source": []
  }
 ],
 "metadata": {
  "kernelspec": {
   "display_name": "Python 3",
   "language": "python",
   "name": "python3"
  },
  "language_info": {
   "codemirror_mode": {
    "name": "ipython",
    "version": 3
   },
   "file_extension": ".py",
   "mimetype": "text/x-python",
   "name": "python",
   "nbconvert_exporter": "python",
   "pygments_lexer": "ipython3",
   "version": "3.6.3"
  }
 },
 "nbformat": 4,
 "nbformat_minor": 2
}
